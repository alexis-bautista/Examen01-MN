{
  "nbformat": 4,
  "nbformat_minor": 0,
  "metadata": {
    "colab": {
      "provenance": [],
      "authorship_tag": "ABX9TyMteUoHHbG6gxbS7GUXKPCV"
    },
    "kernelspec": {
      "name": "python3",
      "display_name": "Python 3"
    },
    "language_info": {
      "name": "python"
    }
  },
  "cells": [
    {
      "cell_type": "markdown",
      "source": [
        "## Funcion Dada"
      ],
      "metadata": {
        "id": "Ag50Wasro_w1"
      }
    },
    {
      "cell_type": "code",
      "execution_count": 8,
      "metadata": {
        "id": "84Hih0rtoKDj"
      },
      "outputs": [],
      "source": [
        "def secant_method(f, x0, x1, tol=1e-6, max_iter=100):\n",
        "    \"\"\"\n",
        "    Secant method for finding the root of a function.\n",
        "\n",
        "    # Parameters\n",
        "    * ``f``: The function for which to find the root.\n",
        "    * ``x0``, x1: Initial guesses for the root.\n",
        "    * ``tol``: Tolerance for convergence (default: 1e-6).\n",
        "    * ``max_iter``: Maximum number of iterations (default: 100).\n",
        "\n",
        "    # Returns\n",
        "    * ``x_curr`` The approximate root of the function.\n",
        "    * ``iter_count`` The number of iterations taken.\n",
        "    \"\"\"\n",
        "    x_prev = x0\n",
        "    x_curr = x1\n",
        "    iter_count = 0\n",
        "\n",
        "    while abs(f(x_curr)) > tol and iter_count < max_iter:\n",
        "        x_next = x_curr - f(x_curr) * (x_curr - x_prev) / (f(x_curr) - f(x_prev))\n",
        "        x_prev = x_curr\n",
        "        x_curr = x_next\n",
        "        iter_count += 1\n",
        "\n",
        "    return x_curr, iter_count"
      ]
    },
    {
      "cell_type": "markdown",
      "source": [
        "Ejemplo 1"
      ],
      "metadata": {
        "id": "ujbsnAj7o5jt"
      }
    },
    {
      "cell_type": "code",
      "source": [
        "i = 0\n",
        "\n",
        "\n",
        "def func(x):\n",
        "    global i\n",
        "    i += 1\n",
        "    y = x**3 - 3 * x**2 + x - 1\n",
        "    print(f\"Llamada i={i}\\t x={x:.5f}\\t y={y:.2f}\")\n",
        "    return y\n",
        "\n",
        "\n",
        "secant_method(func, x0=2, x1=3)"
      ],
      "metadata": {
        "colab": {
          "base_uri": "https://localhost:8080/"
        },
        "id": "Teu3vryLo8DV",
        "outputId": "a09cef6a-40b0-41d5-bef5-8eeada7ee9d2"
      },
      "execution_count": 4,
      "outputs": [
        {
          "output_type": "stream",
          "name": "stdout",
          "text": [
            "Llamada i=1\t x=3.00000\t y=2.00\n",
            "Llamada i=2\t x=3.00000\t y=2.00\n",
            "Llamada i=3\t x=3.00000\t y=2.00\n",
            "Llamada i=4\t x=2.00000\t y=-3.00\n",
            "Llamada i=5\t x=2.60000\t y=-1.10\n",
            "Llamada i=6\t x=2.60000\t y=-1.10\n",
            "Llamada i=7\t x=2.60000\t y=-1.10\n",
            "Llamada i=8\t x=3.00000\t y=2.00\n",
            "Llamada i=9\t x=2.74227\t y=-0.20\n",
            "Llamada i=10\t x=2.74227\t y=-0.20\n",
            "Llamada i=11\t x=2.74227\t y=-0.20\n",
            "Llamada i=12\t x=2.60000\t y=-1.10\n",
            "Llamada i=13\t x=2.77296\t y=0.03\n",
            "Llamada i=14\t x=2.77296\t y=0.03\n",
            "Llamada i=15\t x=2.77296\t y=0.03\n",
            "Llamada i=16\t x=2.74227\t y=-0.20\n",
            "Llamada i=17\t x=2.76922\t y=-0.00\n",
            "Llamada i=18\t x=2.76922\t y=-0.00\n",
            "Llamada i=19\t x=2.76922\t y=-0.00\n",
            "Llamada i=20\t x=2.77296\t y=0.03\n",
            "Llamada i=21\t x=2.76929\t y=-0.00\n",
            "Llamada i=22\t x=2.76929\t y=-0.00\n",
            "Llamada i=23\t x=2.76929\t y=-0.00\n",
            "Llamada i=24\t x=2.76922\t y=-0.00\n",
            "Llamada i=25\t x=2.76929\t y=0.00\n"
          ]
        },
        {
          "output_type": "execute_result",
          "data": {
            "text/plain": [
              "(2.7692923542484045, 6)"
            ]
          },
          "metadata": {},
          "execution_count": 4
        }
      ]
    },
    {
      "cell_type": "markdown",
      "source": [
        "Ejemplo 2"
      ],
      "metadata": {
        "id": "UPSgA6PSqTiF"
      }
    },
    {
      "cell_type": "code",
      "source": [
        "i = 0\n",
        "import math\n",
        "\n",
        "\n",
        "def func(x):\n",
        "    global i\n",
        "    i += 1\n",
        "    y = math.sin(x) + 0.5\n",
        "    print(f\"Llamada i={i}\\t x={x:.5f}\\t y={y:.2f}\")\n",
        "    return y\n",
        "\n",
        "\n",
        "secant_method(func, x0=2, x1=3)"
      ],
      "metadata": {
        "colab": {
          "base_uri": "https://localhost:8080/"
        },
        "id": "8mjEbyOgqXZl",
        "outputId": "3c232e2d-ecd6-4391-c02e-e67a18aa261c"
      },
      "execution_count": 9,
      "outputs": [
        {
          "output_type": "stream",
          "name": "stdout",
          "text": [
            "Llamada i=1\t x=3.00000\t y=0.64\n",
            "Llamada i=2\t x=3.00000\t y=0.64\n",
            "Llamada i=3\t x=3.00000\t y=0.64\n",
            "Llamada i=4\t x=2.00000\t y=1.41\n",
            "Llamada i=5\t x=3.83460\t y=-0.14\n",
            "Llamada i=6\t x=3.83460\t y=-0.14\n",
            "Llamada i=7\t x=3.83460\t y=-0.14\n",
            "Llamada i=8\t x=3.00000\t y=0.64\n",
            "Llamada i=9\t x=3.68602\t y=-0.02\n",
            "Llamada i=10\t x=3.68602\t y=-0.02\n",
            "Llamada i=11\t x=3.68602\t y=-0.02\n",
            "Llamada i=12\t x=3.83460\t y=-0.14\n",
            "Llamada i=13\t x=3.66399\t y=0.00\n",
            "Llamada i=14\t x=3.66399\t y=0.00\n",
            "Llamada i=15\t x=3.66399\t y=0.00\n",
            "Llamada i=16\t x=3.68602\t y=-0.02\n",
            "Llamada i=17\t x=3.66520\t y=-0.00\n",
            "Llamada i=18\t x=3.66520\t y=-0.00\n",
            "Llamada i=19\t x=3.66520\t y=-0.00\n",
            "Llamada i=20\t x=3.66399\t y=0.00\n",
            "Llamada i=21\t x=3.66519\t y=-0.00\n"
          ]
        },
        {
          "output_type": "execute_result",
          "data": {
            "text/plain": [
              "(3.66519143172732, 5)"
            ]
          },
          "metadata": {},
          "execution_count": 9
        }
      ]
    },
    {
      "cell_type": "markdown",
      "source": [
        "## Funcion optimizada"
      ],
      "metadata": {
        "id": "Xeld7hTLoyZd"
      }
    },
    {
      "cell_type": "code",
      "source": [
        "def secant_method(f, x0, x1, tol=1e-6, max_iter=100):\n",
        "    \"\"\"\n",
        "    Secant method for finding the root of a function.\n",
        "\n",
        "    # Parameters\n",
        "    * ``f``: The function for which to find the root.\n",
        "    * ``x0``, x1: Initial guesses for the root.\n",
        "    * ``tol``: Tolerance for convergence (default: 1e-6).\n",
        "    * ``max_iter``: Maximum number of iterations (default: 100).\n",
        "\n",
        "    # Returns\n",
        "    * ``x_curr`` The approximate root of the function.\n",
        "    * ``iter_count`` The number of iterations taken.\n",
        "    \"\"\"\n",
        "    x_prev = x0\n",
        "    x_curr = x1\n",
        "    iter_count = 0\n",
        "\n",
        "    f_x_prev = f(x_prev)\n",
        "    f_x_curr = f(x_curr)\n",
        "\n",
        "    while abs(f_x_curr) > tol and iter_count < max_iter:\n",
        "        x_next = x_curr - f_x_curr * (x_curr - x_prev) / (f_x_curr - f_x_prev)\n",
        "        x_prev = x_curr\n",
        "        x_curr = x_next\n",
        "\n",
        "        f_x_prev = f_x_curr\n",
        "        f_x_curr = f(x_curr)\n",
        "\n",
        "        iter_count += 1\n",
        "\n",
        "    return x_curr, iter_count"
      ],
      "metadata": {
        "id": "tjKScjqDo1ON"
      },
      "execution_count": 10,
      "outputs": []
    },
    {
      "cell_type": "markdown",
      "source": [
        "Ejemplo 1"
      ],
      "metadata": {
        "id": "ZlwKKuQUo2Vt"
      }
    },
    {
      "cell_type": "code",
      "source": [
        "i = 0\n",
        "\n",
        "\n",
        "def func(x):\n",
        "    global i\n",
        "    i += 1\n",
        "    y = x**3 - 3 * x**2 + x - 1\n",
        "    print(f\"Llamada i={i}\\t x={x:.5f}\\t y={y:.2f}\")\n",
        "    return y\n",
        "\n",
        "\n",
        "secant_method(func, x0=2, x1=3)"
      ],
      "metadata": {
        "colab": {
          "base_uri": "https://localhost:8080/"
        },
        "id": "HLe8cvhFod5V",
        "outputId": "1b269cc5-d7c1-4af2-f05a-9b35d660885b"
      },
      "execution_count": 6,
      "outputs": [
        {
          "output_type": "stream",
          "name": "stdout",
          "text": [
            "Llamada i=1\t x=2.00000\t y=-3.00\n",
            "Llamada i=2\t x=3.00000\t y=2.00\n",
            "Llamada i=3\t x=2.60000\t y=-1.10\n",
            "Llamada i=4\t x=2.74227\t y=-0.20\n",
            "Llamada i=5\t x=2.77296\t y=0.03\n",
            "Llamada i=6\t x=2.76922\t y=-0.00\n",
            "Llamada i=7\t x=2.76929\t y=-0.00\n",
            "Llamada i=8\t x=2.76929\t y=0.00\n"
          ]
        },
        {
          "output_type": "execute_result",
          "data": {
            "text/plain": [
              "(2.7692923542484045, 6)"
            ]
          },
          "metadata": {},
          "execution_count": 6
        }
      ]
    },
    {
      "cell_type": "markdown",
      "source": [
        "Ejemplo 2"
      ],
      "metadata": {
        "id": "KqdijVRwqb7N"
      }
    },
    {
      "cell_type": "code",
      "source": [
        "i = 0\n",
        "import math\n",
        "\n",
        "\n",
        "def func(x):\n",
        "    global i\n",
        "    i += 1\n",
        "    y = math.sin(x) + 0.5\n",
        "    print(f\"Llamada i={i}\\t x={x:.5f}\\t y={y:.2f}\")\n",
        "    return y\n",
        "\n",
        "\n",
        "secant_method(func, x0=2, x1=3)"
      ],
      "metadata": {
        "colab": {
          "base_uri": "https://localhost:8080/"
        },
        "id": "FfGHCZ7NqfbN",
        "outputId": "3389f4d2-1cdd-4c02-bd2e-3842c58bf9c4"
      },
      "execution_count": 11,
      "outputs": [
        {
          "output_type": "stream",
          "name": "stdout",
          "text": [
            "Llamada i=1\t x=2.00000\t y=1.41\n",
            "Llamada i=2\t x=3.00000\t y=0.64\n",
            "Llamada i=3\t x=3.83460\t y=-0.14\n",
            "Llamada i=4\t x=3.68602\t y=-0.02\n",
            "Llamada i=5\t x=3.66399\t y=0.00\n",
            "Llamada i=6\t x=3.66520\t y=-0.00\n",
            "Llamada i=7\t x=3.66519\t y=-0.00\n"
          ]
        },
        {
          "output_type": "execute_result",
          "data": {
            "text/plain": [
              "(3.66519143172732, 5)"
            ]
          },
          "metadata": {},
          "execution_count": 11
        }
      ]
    }
  ]
}